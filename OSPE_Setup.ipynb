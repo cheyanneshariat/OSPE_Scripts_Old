{
 "cells": [
  {
   "cell_type": "code",
   "execution_count": 2,
   "id": "b2ccec7e",
   "metadata": {},
   "outputs": [],
   "source": [
    "import pandas as pd\n",
    "import matplotlib.pyplot as plt\n",
    "import numpy as np\n",
    "import fileinput\n",
    "import glob\n",
    "import os\n",
    "import shutil\n",
    "import random\n",
    "pd.set_option('display.max_columns', None)"
   ]
  },
  {
   "cell_type": "code",
   "execution_count": 3,
   "id": "7b660411",
   "metadata": {},
   "outputs": [
    {
     "data": {
      "text/plain": [
       "<Figure size 640x480 with 0 Axes>"
      ]
     },
     "metadata": {},
     "output_type": "display_data"
    }
   ],
   "source": [
    "#################################\n",
    "#### FUNCTIONS USED LATER #######\n",
    "#################################\n",
    "columns = ['sur', 'sur2', 't', 'e1','e2','g1','g2','a1','i1','i2','i','spin1h','spintot',\n",
    "           'beta','vp','spin1e','spin1q','spin2e','spin2q','spin2h','htot','m1','R1','m2',\n",
    "           'R2','a2','m3','Roche1','R1','type1','type2','type3','beta2','gamma','gamma2','flag']\n",
    "def get_first_line(file_path): #get first line \n",
    "    with open(file_path) as f:\n",
    "        return f.readline()\n",
    "\n",
    "def get_last_line(file_path): #faster way to get last line\n",
    "    with open(file_path, 'rb') as file:\n",
    "        try:\n",
    "            file.seek(-2, os.SEEK_END)\n",
    "            while file.read(1) != b'\\n':\n",
    "                file.seek(-2, os.SEEK_CUR)\n",
    "        except OSError:\n",
    "            file.seek(0)\n",
    "        last_line = file.readline().decode()\n",
    "        return last_line\n",
    "def maybe_float(s):\n",
    "    try:\n",
    "        return float(s)\n",
    "    except (ValueError, TypeError):\n",
    "        return s\n",
    "\n",
    "def Kepler_3rdLaw(P,m1,m2):\n",
    "    '''\n",
    "    Function to get semi-major axis from period using K3L\n",
    "    :param P: Period of orbit in **yr**\n",
    "    :return: returns SMA (a) in **AU**\n",
    "    '''\n",
    "    G = 1.19e-19 #G in AU^3/M_sun*s^2\n",
    "    a = np.power( ( (P**2)*(m1+m2) ) ,1./3.) #Kepler's Third Law\n",
    "    return(a)\n",
    "def Roche_limit(q):\n",
    "    '''\n",
    "    Function to get Roche Limit of specified mass ratios (q)\n",
    "    :param q: mass ratio\n",
    "    :return: returns the Roche Limit (RHS of Eqn.1 from Naoz+2014)\n",
    "    '''\n",
    "    num1,num2=0.49,0.6;\n",
    "    return num1*np.power(q,2./3.)/(0.6* np.power(q,2./3.)+np.log(1+np.sqrt(q)));\n",
    "def pos_normal(mean, sigma): \n",
    "    '''\n",
    "    Function to get only positive values from normal distribution recursively\n",
    "    '''\n",
    "    x = np.random.normal(mean,sigma)\n",
    "    return(x if x>=0 else pos_normal(mean,sigma))\n",
    "def rndm(a, b, g, size=1):\n",
    "    \"\"\"Power-law gen for pdf(x)\\propto x^{g-1} for a<=x<=b\"\"\"\n",
    "    r = np.random.random(size=size)\n",
    "    ag, bg = a**g, b**g\n",
    "    return (ag + (bg - ag)*r)**(1./g) \n",
    " \n",
    "def miller_scalo_IMF(arr,lower=1.0,upper=8.0):\n",
    "\n",
    "    if 0.1<arr<=1: return rndm(0.1,1.0,-0.25)[0]\n",
    "    if 1.<arr<=2.: return rndm(1.0,2.0,-1.00)[0]\n",
    "    if 2.<arr<=10: return rndm(2.0,8.0,-1.30)[0]\n",
    "    if 10<arr<=25: return rndm(10.0,125.0,-2.30)[0]\n",
    "\n",
    "#Setup for the MS IMF\n",
    "MS_IMF_gen = np.vectorize(lambda arr: miller_scalo_IMF(arr)) #vectorize the function\n",
    "x = np.linspace(1,8,int(1e6))\n",
    "MS_IMF_samples = MS_IMF_gen(x)\n",
    "n_MS, bins_MS, patches = plt.hist(MS_IMF_samples,bins=500,cumulative=True,density=True,histtype='step') \n",
    "plt.clf()\n",
    "\n",
    "def initial_conditions(IMF : str = '1'): \n",
    "    IMF_chosen = IMF\n",
    "    if IMF == '1': \n",
    "        m1=1. #default m1= 1 M_sun\n",
    "    elif IMF == 'Salpeter': \n",
    "        m1 = rndm(1.0,8.0,-1.35)[0] #Salpeter PDF #or 1\n",
    "    elif IMF == 'MS': \n",
    "        m1 = random.choices(bins_MS[:-1], cum_weights = n_MS)[0]\n",
    "    \n",
    "    \n",
    "    q_in,q_out = pos_normal(0.23,0.42),pos_normal(0.23,0.42)\n",
    "    \n",
    "    m2 = m1*q_in\n",
    "    m3 = q_out*(m1+m2)\n",
    "    \n",
    "    R1 = m1\n",
    "    R2 = R1*np.power(m2/m1,4./5.)\n",
    "    \n",
    "    spin1P = 25.\n",
    "    spin2P = 25.\n",
    "    \n",
    "    beta = np.random.uniform(0,180)\n",
    "    beta2 = 0.\n",
    "    \n",
    "    gamma = 45.\n",
    "    gamma2 = 45.\n",
    "    \n",
    "    g1 = np.random.uniform(0,360)\n",
    "    g2 = np.random.uniform(0,360)\n",
    "    \n",
    "    age = 12.5*1e3 #*1.e6, means 10*1e9\n",
    "\n",
    "    P_in,P_out = 10**np.random.normal(4.8,2.3), 10**np.random.normal(4.8,2.3) #periods in days\n",
    "    P_in,P_out = P_in/365.25, P_out/365.25 #periods in yr\n",
    "    \n",
    "    a1,a2 = Kepler_3rdLaw(P_in,m1,m2), Kepler_3rdLaw(P_out,m1+m2,m3) #SMA in AU\n",
    "    e1,e2 = np.random.uniform(0,1),np.random.uniform(0,1)\n",
    "\n",
    "    #inclination\n",
    "    cosi = np.random.uniform(np.cos(0),np.cos(np.pi))\n",
    "    i = np.rad2deg(np.arccos(cosi))\n",
    "\n",
    "    #stability_criteria from Mardling & Aarseth (2001),**BOOL**\n",
    "    stable = 2.8 * np.power(1.+ q_out,2./5.) * np.power(1.+e2, 2./5.)*np.power(1.-e2, -6./5.)*(1-(0.3*i/180.)) \n",
    "    epsilon = (a1/a2) * e2 / (1-e2**2) #epsilon criterion from Naoz+2014\n",
    "    \n",
    "    Roche1=Roche_limit(m1/m2);\n",
    "    Roche2=Roche_limit(m2/m1);\n",
    "    Rsun = (695500*6.68459e-9)  #sun radius in AU\n",
    "\n",
    "    # BOOLEANS to check that parameters are **STABLE**\n",
    "    stability_criteria = (a2/a1) > stable\n",
    "    epsilon_criteria = epsilon < 0.1\n",
    "    Roche1_criteria = R1*Rsun < (a1*(1-e1)*Roche1)\n",
    "    Roche2_criteria = R2*Rsun < (a1*(1-e1)*Roche2)\n",
    "    mass_criteria =  m1>0 and m2>0 and m3>0 #this condition should already be met bc pos_normal function\n",
    "    criteria = (stability_criteria and mass_criteria and epsilon_criteria and (Roche1_criteria and Roche2_criteria) )\n",
    "\n",
    "    # recurse if criteria are not met until criteria are met\n",
    "    if criteria:\n",
    "        return(np.array([m1,m2,m3,R1,R2,spin1P,spin2P,beta,beta2,gamma,gamma2,a1,a2,e1,e2,g1,g2,i,age]))\n",
    "    else:\n",
    "        return initial_conditions(IMF = IMF_chosen)\n",
    "    "
   ]
  },
  {
   "cell_type": "code",
   "execution_count": 5,
   "id": "1f05e11a",
   "metadata": {},
   "outputs": [
    {
     "ename": "KeyboardInterrupt",
     "evalue": "",
     "output_type": "error",
     "traceback": [
      "\u001b[0;31m---------------------------------------------------------------------------\u001b[0m",
      "\u001b[0;31mKeyboardInterrupt\u001b[0m                         Traceback (most recent call last)",
      "Cell \u001b[0;32mIn[5], line 2\u001b[0m\n\u001b[1;32m      1\u001b[0m \u001b[39m#SALPETER IMF\u001b[39;00m\n\u001b[0;32m----> 2\u001b[0m c\u001b[39m=\u001b[39m[]\n\u001b[1;32m      3\u001b[0m MS\u001b[39m=\u001b[39m[]\n\u001b[1;32m      4\u001b[0m x \u001b[39m=\u001b[39m np\u001b[39m.\u001b[39mlinspace(\u001b[39m1\u001b[39m,\u001b[39m8\u001b[39m,\u001b[39m10000\u001b[39m)\n",
      "Cell \u001b[0;32mIn[5], line 2\u001b[0m\n\u001b[1;32m      1\u001b[0m \u001b[39m#SALPETER IMF\u001b[39;00m\n\u001b[0;32m----> 2\u001b[0m c\u001b[39m=\u001b[39m[]\n\u001b[1;32m      3\u001b[0m MS\u001b[39m=\u001b[39m[]\n\u001b[1;32m      4\u001b[0m x \u001b[39m=\u001b[39m np\u001b[39m.\u001b[39mlinspace(\u001b[39m1\u001b[39m,\u001b[39m8\u001b[39m,\u001b[39m10000\u001b[39m)\n",
      "File \u001b[0;32m_pydevd_bundle/pydevd_cython.pyx:1457\u001b[0m, in \u001b[0;36m_pydevd_bundle.pydevd_cython.SafeCallWrapper.__call__\u001b[0;34m()\u001b[0m\n",
      "File \u001b[0;32m_pydevd_bundle/pydevd_cython.pyx:701\u001b[0m, in \u001b[0;36m_pydevd_bundle.pydevd_cython.PyDBFrame.trace_dispatch\u001b[0;34m()\u001b[0m\n",
      "File \u001b[0;32m_pydevd_bundle/pydevd_cython.pyx:1152\u001b[0m, in \u001b[0;36m_pydevd_bundle.pydevd_cython.PyDBFrame.trace_dispatch\u001b[0;34m()\u001b[0m\n",
      "File \u001b[0;32m_pydevd_bundle/pydevd_cython.pyx:1135\u001b[0m, in \u001b[0;36m_pydevd_bundle.pydevd_cython.PyDBFrame.trace_dispatch\u001b[0;34m()\u001b[0m\n",
      "File \u001b[0;32m_pydevd_bundle/pydevd_cython.pyx:312\u001b[0m, in \u001b[0;36m_pydevd_bundle.pydevd_cython.PyDBFrame.do_wait_suspend\u001b[0;34m()\u001b[0m\n",
      "File \u001b[0;32m~/Library/Python/3.10/lib/python/site-packages/debugpy/_vendored/pydevd/pydevd.py:2067\u001b[0m, in \u001b[0;36mPyDB.do_wait_suspend\u001b[0;34m(self, thread, frame, event, arg, exception_type)\u001b[0m\n\u001b[1;32m   2064\u001b[0m             from_this_thread\u001b[39m.\u001b[39mappend(frame_custom_thread_id)\n\u001b[1;32m   2066\u001b[0m     \u001b[39mwith\u001b[39;00m \u001b[39mself\u001b[39m\u001b[39m.\u001b[39m_threads_suspended_single_notification\u001b[39m.\u001b[39mnotify_thread_suspended(thread_id, stop_reason):\n\u001b[0;32m-> 2067\u001b[0m         keep_suspended \u001b[39m=\u001b[39m \u001b[39mself\u001b[39;49m\u001b[39m.\u001b[39;49m_do_wait_suspend(thread, frame, event, arg, suspend_type, from_this_thread, frames_tracker)\n\u001b[1;32m   2069\u001b[0m frames_list \u001b[39m=\u001b[39m \u001b[39mNone\u001b[39;00m\n\u001b[1;32m   2071\u001b[0m \u001b[39mif\u001b[39;00m keep_suspended:\n\u001b[1;32m   2072\u001b[0m     \u001b[39m# This means that we should pause again after a set next statement.\u001b[39;00m\n",
      "File \u001b[0;32m~/Library/Python/3.10/lib/python/site-packages/debugpy/_vendored/pydevd/pydevd.py:2103\u001b[0m, in \u001b[0;36mPyDB._do_wait_suspend\u001b[0;34m(self, thread, frame, event, arg, suspend_type, from_this_thread, frames_tracker)\u001b[0m\n\u001b[1;32m   2100\u001b[0m         \u001b[39mself\u001b[39m\u001b[39m.\u001b[39m_call_input_hook()\n\u001b[1;32m   2102\u001b[0m     \u001b[39mself\u001b[39m\u001b[39m.\u001b[39mprocess_internal_commands()\n\u001b[0;32m-> 2103\u001b[0m     time\u001b[39m.\u001b[39;49msleep(\u001b[39m0.01\u001b[39;49m)\n\u001b[1;32m   2105\u001b[0m \u001b[39mself\u001b[39m\u001b[39m.\u001b[39mcancel_async_evaluation(get_current_thread_id(thread), \u001b[39mstr\u001b[39m(\u001b[39mid\u001b[39m(frame)))\n\u001b[1;32m   2107\u001b[0m \u001b[39m# process any stepping instructions\u001b[39;00m\n",
      "\u001b[0;31mKeyboardInterrupt\u001b[0m: "
     ]
    }
   ],
   "source": [
    "m1s=[]\n",
    "m1s_kosh=[]\n",
    "m1s_salp=[]\n",
    "m1s_salp_kosh=[]\n",
    "for _ in range(1000):\n",
    "    m1s.append(initial_conditions(IMF = 'MS')[0])\n",
    "    m1s_kosh.append( random.choices(bins_MS[:-1], cum_weights = n_MS)[0])\n",
    "    m1s_salp.append(initial_conditions(IMF='Salpeter')[0])\n",
    "    m1s_salp_kosh.append(rndm(1.0,8.0,-1.35)[0])\n",
    "plt.hist(m1s, bins=30,histtype='step',density=True)\n",
    "plt.hist(m1s_kosh, bins=30,histtype='step',density=True)\n",
    "#plt.hist(m1s_salp, bins=30,histtype='step',density=True)\n",
    "#plt.hist(m1s_salp_kosh, bins=30,histtype='step',density=True)\n",
    "plt.show()"
   ]
  },
  {
   "cell_type": "code",
   "execution_count": 274,
   "id": "9d79f1dc",
   "metadata": {},
   "outputs": [
    {
     "data": {
      "text/plain": [
       "<matplotlib.legend.Legend at 0x130198be0>"
      ]
     },
     "execution_count": 274,
     "metadata": {},
     "output_type": "execute_result"
    },
    {
     "data": {
      "image/png": "[encoded data removed]",
      "text/plain": [
       "<Figure size 640x480 with 1 Axes>"
      ]
     },
     "metadata": {},
     "output_type": "display_data"
    }
   ],
   "source": [
    "#SALPETER IMF\n",
    "c=[]\n",
    "MS=[]\n",
    "x = np.linspace(1,8,10000)\n",
    "MS_IMF_samples = MS_IMF_gen(x)\n",
    "y= 1.4*x**-2.35\n",
    "for i in range(10000):\n",
    "    c.append(rndm(1.0,8.0,-1.35)[0])\n",
    "    \n",
    "plt.hist(c,histtype='step',bins=200,linewidth=1.7,density=True,label = 'Salpeter')\n",
    "plt.hist(MS_IMF_samples,histtype='step',density=True,bins=200,linewidth=1.5,color='limegreen',label='Miller & Scalo')\n",
    "\n",
    "#plt.plot(x,y,c='r')\n",
    "plt.xlabel('Mass [M$_{\\odot}$]')\n",
    "plt.legend(edgecolor='k',fontsize=12,ncol=2)\n"
   ]
  },
  {
   "cell_type": "code",
   "execution_count": 254,
   "id": "4fb20e5a",
   "metadata": {},
   "outputs": [
    {
     "data": {
      "image/png": "[encoded data removed]",
      "text/plain": [
       "<Figure size 640x480 with 1 Axes>"
      ]
     },
     "metadata": {},
     "output_type": "display_data"
    }
   ],
   "source": [
    "n, bins, patches = plt.hist(MS_IMF_samples,bins=200,cumulative=True,density=True,histtype='step')\n",
    "\n",
    "import random\n",
    "x = [random.choices(bins[:-1], cum_weights = n)[0] for x in range(10000)]\n",
    "\n",
    "plt.hist(x,cumulative=True,histtype='step',density=True,bins=100)\n",
    "\n",
    "plt.show()\n"
   ]
  },
  {
   "cell_type": "code",
   "execution_count": 8,
   "id": "2bcb7822",
   "metadata": {},
   "outputs": [],
   "source": [
    "#############################################\n",
    "##### FUNCTIONs THAT CREATES triple.in's #####\n",
    "#############################################\n",
    "\n",
    "#OSPE FLAGS; 0 (yes) 1 (no)\n",
    "quadrupole = 0\n",
    "octupole = 0\n",
    "GR = 0\n",
    "TF = 0\n",
    "ML1 = 0\n",
    "MB1 = 0\n",
    "ML2 = 0\n",
    "MB2 = 0\n",
    "ML3 = 0\n",
    "SSE1 = 0\n",
    "SSE2 = 0\n",
    "SSE3 = 0\n",
    "tMSMyr = 0\n",
    "\n",
    "# ==========================================================================\n",
    "\n",
    "def create_file(initial_conditions, file_dir, file_end, eps = 1e-16, restart=False):\n",
    "    \"\"\"\n",
    "    Function to create a triple.in file with input initial conditions\n",
    "    :param initial_conditions: array of initial conditions from generate_inicon\n",
    "    :param file_dir: directory to store triple.in files in\n",
    "    :param file_end: file suffix (i.e. '1' to write triple.in1)\n",
    "    :param start_time: system age to start simulations on\n",
    "    :param restart: flag set to True if code is being re-started on Hoffman\n",
    "    :return: writes a triple.inX file and saves to file_dir\n",
    "    \"\"\"\n",
    "    # open new file\n",
    "    filename = file_dir + '/' + 'triple.in' + file_end\n",
    "    out = open(filename,'w')\n",
    "    \n",
    "    # write header\n",
    "    out.write(\"#########################################################################\\n\")\n",
    "    out.write(\"## Read in the initial orbital parameters of the triple system         ##\\n\")\n",
    "    out.write(\"## Mass in M_sol, semimajor axis in AU                                 ##\\n\")\n",
    "    out.write(\"#########################################################################\\n\")\n",
    "    out.write(\"\\n\")\n",
    "    \n",
    "    if restart==False:\n",
    "        out.write(\"__m1_______m2___________m3________R1(Rsun)____R2(Rsun)____Spin1P(day)__Spin2P(day)_ _beta(s_O_deg)__beta2(s_O_deg)__gamma(s_O_deg)__gamma2(s_O_deg)__a1______a2____e1____e2____g1(deg)__g2(deg)__i(deg)__age(Myr)___ :::\\n\")\n",
    "    \n",
    "    elif restart==True:\n",
    "        out.write(\"__m1_______m2___________m3________R1(Rsun)____R2(Rsun)____Spin1P(day)__Spin2P(day)_    _beta(s_O_deg)__beta2(s_O_deg)__gamma(s_O_deg)__gamma2(s_O_deg)__a1______a2____e1____e2____g1(deg)__g2(deg)__i(deg)__t_i(yr)__age(Myr)___ :::\\n\")\n",
    "        \n",
    "    out.write(\"\\n\")\n",
    "    \n",
    "    # add initial conditions\n",
    "    out.write('  '.join([str(i) for i in initial_conditions])+'\\n')\n",
    "    \n",
    "    # add header for flags\n",
    "    out.write(\"\\n\")\n",
    "    out.write(\"#########################################################################\\n\")\n",
    "    out.write(\"## Flags                                                               ##\\n\")\n",
    "    \n",
    "    # quadrupole\n",
    "    out.write(\"#########################################################################\\n\")\n",
    "    out.write(\"\\n\")\n",
    "    out.write(\"__QUADRUPOLE(0_yes_1_no)___ :::\\n\")\n",
    "    out.write(str(quadrupole)+'\\n') # for quadrupole?\n",
    "    out.write(\"\\n\")\n",
    "    \n",
    "    # octupole\n",
    "    out.write(\"#########################################################################\\n\")\n",
    "    out.write(\"__OCTUPOLE(0_yes_1_no)___ :::\\n\")\n",
    "    out.write(\"\\n\")\n",
    "    out.write(str(octupole)+'\\n') # for octupole?\n",
    "    out.write(\"\\n\")\n",
    "    \n",
    "    # GR\n",
    "    out.write(\"#########################################################################\\n\")\n",
    "    out.write(\"__GR(0_yes_1_no)___ :::\\n\")\n",
    "    out.write(\"\\n\")\n",
    "    out.write(str(GR)+'\\n') # for GR?\n",
    "    out.write(\"\\n\")\n",
    "    \n",
    "    # tidal forces\n",
    "    out.write(\"#########################################################################\\n\")\n",
    "    out.write(\"__TF(0_yes_1_no)___ :::\\n\")\n",
    "    out.write(\"\\n\")\n",
    "    out.write(str(TF)+'\\n') #for TF?\n",
    "    out.write(\"\\n\")\n",
    "    \n",
    "    out.write(\"########################################################################\\n\")\n",
    "    out.write(\"__ML1(0_yes_1_no)___ :::\\n\")\n",
    "    out.write(\"\\n\")\n",
    "    out.write(str(ML1)+'\\n') # for ML1?\n",
    "    out.write(\"\\n\")\n",
    "    \n",
    "    out.write(\"########################################################################\\n\")\n",
    "    out.write(\"__MB1(0_yes_1_no)___ :::\\n\")\n",
    "    out.write(\"\\n\")\n",
    "    out.write(str(MB1)+'\\n') # for MB1?\n",
    "    out.write(\"\\n\")\n",
    "    \n",
    "    out.write(\"########################################################################\\n\")\n",
    "    out.write(\"__ML2(0_yes_1_no)___ :::\\n\")\n",
    "    out.write(\"\\n\")\n",
    "    out.write(str(ML2)+'\\n') # for ML2?\n",
    "    out.write(\"\\n\")\n",
    "    \n",
    "    out.write(\"########################################################################\\n\")\n",
    "    out.write(\"__MB2(0_yes_1_no)___ :::\\n\")\n",
    "    out.write(\"\\n\")\n",
    "    out.write(str(MB2)+'\\n') # for MB2?\n",
    "    out.write(\"\\n\")\n",
    "    \n",
    "    out.write(\"########################################################################\\n\")\n",
    "    out.write(\"__ML3(0_yes_1_no)___ :::\\n\")\n",
    "    out.write(\"\\n\")\n",
    "    out.write(str(ML3)+'\\n') # for ML3?\n",
    "    out.write(\"\\n\")\n",
    "    \n",
    "    out.write(\"########################################################################\\n\")\n",
    "    out.write(\"__SSE1(0_yes_1_no)___ :::\\n\")\n",
    "    out.write(\"\\n\")\n",
    "    out.write(str(SSE1)+'\\n') # for SSE1?\n",
    "    out.write(\"\\n\")\n",
    "    \n",
    "    out.write(\"########################################################################\\n\")\n",
    "    out.write(\"__SSE2(0_yes_1_no)___ :::\\n\")\n",
    "    out.write(\"\\n\")\n",
    "    out.write(str(SSE2)+'\\n') # for SSE2?\n",
    "    out.write(\"\\n\")\n",
    "    \n",
    "    out.write(\"########################################################################\\n\")\n",
    "    out.write(\"__SSE3(0_yes_1_no)___ :::\\n\")\n",
    "    out.write(\"\\n\")\n",
    "    out.write(str(SSE3)+'\\n') # for SSE3?\n",
    "    out.write(\"\\n\")\n",
    "    \n",
    "    out.write(\"########################################################################\\n\")\n",
    "    out.write(\"__tMSMyr(0_yes_1_no)___ :::\\n\")\n",
    "    out.write(\"\\n\")\n",
    "    out.write(str(tMSMyr)+'\\n') # for tMSMyr?\n",
    "    out.write(\"\\n\")\n",
    "    \n",
    "    # add control parameters section\n",
    "    out.write(\"#########################################################################\\n\")\n",
    "    out.write(\"## Control Parameters                                                  ##\\n\")\n",
    "    out.write(\"#########################################################################\\n\")\n",
    "    out.write(\"\\n\")\n",
    "    out.write(\"__eps___ :::\\n\")\n",
    "    out.write(str(eps)+\"\\n\")\n",
    " #   out.write(\"1e-16\\n\")\n",
    "    \n",
    "    out.close()\n",
    "\n",
    "    \n",
    "############################################################\n",
    "##### FUNCTION THAT CREATES N triple.in's TO DIRECTORY #####\n",
    "############################################################\n",
    "def generate_set_of_files(n, file_dir, start = 1, IMF = '1'):\n",
    "    \"\"\"\n",
    "    Creates a set of triple.in files by iteratively running create_file()\n",
    "    :param n: number of triple.in files to generate (will create triple.in1-n)\n",
    "    :param file_dir: directory to store triple.in files in\n",
    "    :return: writes a n triple.inX file and saves to file_dir\n",
    "    \"\"\"\n",
    "    # for j in range(start,start+n+1):\n",
    "    #     inicons = initial_conditions()\n",
    "    #     file_end = str(j)\n",
    "    #     print(initial_conditions)\n",
    "    #     create_file(inicons, file_dir,file_end)\n",
    "    this_IMF = IMF\n",
    "    n_files = start\n",
    "    n_max = start + n\n",
    "    while n_files < n_max:\n",
    "        inicons = initial_conditions(IMF = this_IMF)\n",
    "        \n",
    "        \n",
    "        file_end = str(n_files)\n",
    "        create_file(inicons, file_dir, file_end)\n",
    "        n_files += 1"
   ]
  },
  {
   "cell_type": "code",
   "execution_count": 320,
   "id": "a437e0fe",
   "metadata": {},
   "outputs": [],
   "source": [
    "# ==========================================================================\n",
    "# RUNNING THE ABOVE FUNCTIONS TO GENERATE FILES \n",
    "a = input('Are you sure that you want to continue? [y/n]: ')\n",
    "if a == 'y' or a == 'Y':\n",
    "    n=1000\n",
    "    file_dir='/Users/bijan1339/Desktop/Research/ICs/'\n",
    "    generate_set_of_files(n,file_dir,start=9000, IMF = 'MS')"
   ]
  },
  {
   "cell_type": "code",
   "execution_count": 21,
   "id": "cd5eb932",
   "metadata": {},
   "outputs": [],
   "source": [
    "columns = ['sur', 'sur2', 't', 'e1','e2','g1','g2','a1','i1','i2','i','spin1h','spintot',\n",
    "           'beta','vp','spin1e','spin1q','spin2e','spin2q','spin2h','htot','m1','R1','m2',\n",
    "           'R2','a2','m3','Roche1','R1','type1','type2','type3','beta2','gamma','gamma2','flag']\n",
    "\n",
    "\n",
    "AU = 1.496E13       # astronomical unit, cm \n",
    "Rsun = 6.96e10    # radius of sun, cm \n",
    "pi = np.pi          # pi, \n",
    "\n",
    "#cassini_n = (7001, 7002, 7003, 7004, 7011, 7013, 7015, 7019, 7021, 7023, 7024, 7025, 7036, 7039, 7058, 7059, 7061, 7063, 7064, 7066, 7067, 7068, 7070, 7072, 7075, 7077, 7078, 7084, 7090, 7092, 7093, 7100, 7102, 7103, 7113, 7116, 7117, 7119, 7120, 7122, 7124, 7126, 7129, 7130, 7138, 7143, 7147, 7151, 7156, 7160, 7161, 7162, 7168, 7172, 7177, 7179, 7180, 7186, 7193, 7196, 7200, 7205, 7206, 7207, 7208, 7209, 7210, 7212, 7215, 7219, 7221, 7222, 7231, 7233, 7234, 7236, 7242, 7243, 7256, 7259, 7263, 7266, 7268, 7274, 7276, 7279, 7282, 7284, 7290, 7292, 7293, 7294, 7296, 7300, 7301, 7302, 7304, 7305, 7307, 7308, 7309, 7310, 7311, 7313, 7315, 7316, 7318, 7322, 7325, 7328, 7331, 7336, 7338, 7342, 7344, 7345, 7347, 7352, 7353, 7359, 7365, 7367, 7368, 7370, 7372, 7374, 7376, 7383, 7385, 7387, 7390, 7394, 7397, 7398, 7401, 7406, 7408, 7413, 7413, 7415, 7419, 7422, 7423, 7425, 7427, 7432, 7433, 7437, 7438, 7444, 7445, 7447, 7450, 7454, 7461, 7465, 7466, 7470, 7476, 7477, 7479, 7482, 7486, 7489, 7491, 7493, 7497, 7505, 7508, 7509, 7513, 7514, 7515, 7517, 7519, 7524, 7525, 7527, 7530, 7533, 7535, 7540, 7546, 7548, 7552, 7557, 7560, 7561, 7563, 7564, 7567, 7568, 7569, 7570, 7571, 7575, 7577, 7579, 7580, 7581, 7582, 7588, 7599, 7601, 7607, 7612, 7620, 7625, 7630, 7631, 7632, 7637, 7642, 7643, 7648, 7651, 7653, 7655, 7657, 7658, 7661, 7662, 7667, 7669, 7670, 7672, 7673, 7683, 7684, 7689, 7690, 7695, 7698, 7702, 7703, 7704, 7710, 7714, 7716, 7718, 7723, 7724, 7729, 7730, 7732, 7736, 7737, 7740, 7743, 7746, 7750, 7751, 7756, 7758, 7759, 7763, 7765, 7767, 7772, 7774, 7780, 7788, 7789, 7790, 7791, 7791, 7794, 7794, 7796, 7801, 7805, 7807, 7808, 7810, 7812, 7813, 7815, 7818, 7822, 7823, 7827, 7834, 7843, 7848, 7849, 7851, 7852, 7853, 7856, 7859, 7862, 7868, 7870, 7874, 7875, 7878, 7881, 7883, 7885, 7886, 7889, 7894, 7898, 7901, 7903, 7904, 7905, 7907, 7909, 7912, 7914, 7916, 7918, 7923, 7926, 7927, 7929, 7933, 7945, 7949, 7955, 7956, 7957, 7958, 7960, 7961, 7964, 7966, 7967, 7977, 7978, 7979, 7981, 7982, 7988, 7995, 7998, 7999)\n",
    "\n",
    "\n",
    "outputs_directory = '/Users/bijan1339/Desktop/Research/Final_Output8/' #'/Users/bijan1339/Desktop/Research/Outputs/'\n",
    "inicon_dir = '/Users/bijan1339/Desktop/Research/ICs/' #directory of where triple.in's are\n",
    "zero_dir = '/Users/bijan1339/Desktop/Research/ICs_Zero/' #for files that didn't start (t=0 or filesize=0), just need to rerun these, no restart\n",
    "restart_inicon_dir = '/Users/bijan1339/Desktop/Research/ICs_restart' #where to put new restart triple.in's \n",
    "\n",
    "#FIND RESTART FILES THAT ARE STILL GOING\n",
    "filename = '/Users/bijan1339/Desktop/Research/StillGoing.txt'\n",
    "with open(filename) as file:\n",
    "    lines = file.readlines()\n",
    "still_going_n = [int(x.split(' ')[5].split('OSPE_')[-1][:-1]) for x in lines]\n",
    "\n",
    "\n",
    "never_started=[]\n",
    "never_started_restart=[]\n",
    "restart_numbers=[]\n",
    "all_n=[]\n",
    "memory_errors=[]\n",
    "cass_n=[]\n",
    "x=0\n",
    "for filename in os.listdir(outputs_directory):\n",
    "    x+=1\n",
    "    needs_restart=False\n",
    "    is_me = False\n",
    "    \n",
    "    n = filename.split('_')[-1].split('.')[0]\n",
    "    if type(maybe_float(n)) is not float:\n",
    "        continue\n",
    "    if (\n",
    "        (filename.endswith('.txt') and filename.startswith('output_') ) and \n",
    "        (8000 <= int(n) <=9000)\n",
    "        ):\n",
    "        all_n.append(n)\n",
    "        n = int(n) #output_n.txt\n",
    "        \n",
    "        this_file = os.path.join(outputs_directory, filename) #stores FULL filename\n",
    "\n",
    "        first_line, last_line = get_first_line(this_file).split('\\t'), get_last_line(this_file).split('\\t') #last line\n",
    "        first_line, last_line = [x.strip() for x in first_line], [x.strip() for x in last_line]\n",
    "\n",
    "        if os.stat(this_file).st_size == 0.:\n",
    "            memory_errors.append(n)\n",
    "            is_me = True\n",
    "        elif (\n",
    "            float(last_line[2]) == 0. and (float(last_line[0]) != 0. and float(last_line[0]) != 4.)\n",
    "              ) : #last condiition is to check if it was a merger\n",
    "                #shutil.copy(source,destination)\n",
    "                shutil.copy(inicon_dir+'triple.in'+str(n), \n",
    "                            zero_dir+'triple.in'+str(n) )\n",
    "                never_started.append(n)\n",
    "                if n not in still_going_n: needs_restart = True\n",
    "\n",
    "        if last_line[-1] != 'END' and not is_me:# and float(last_line[2]) <=1e10:# and ( (float(last_line[0]) != 0.) or (float(last_line[0]) != 4.)):\n",
    "            restart_numbers.append(n)\n",
    "            # read in parameters from output file\n",
    "            ip, fp = [maybe_float(y) for y in first_line], [maybe_float(y) for y in last_line]    \n",
    "\n",
    "            end_time = fp[2] # last time printout of simulation\n",
    "            \n",
    "            total_age = 12.5e9\n",
    "            age = total_age/1e6 #(total_age-end_time)/1e6 # rest of time simulation needs to run to\n",
    "            e1,e2,a1,i,beta = fp[3], fp[4], fp[7], fp[10],fp[13]\n",
    "            g1, g2 = np.rad2deg(fp[5]), np.rad2deg(fp[6])\n",
    "            m1,m2,a2,m3 = ip[21],ip[23],fp[25],ip[26] #taking the INITIAL, initial masses\n",
    "            R1, R2 = fp[22]*AU/Rsun, fp[24]*AU/Rsun # convert from AU to Rsun\n",
    "            beta2,gamma,gamma2 = fp[32], fp[33],fp[34]\n",
    "\n",
    "            # compute spins from output\n",
    "            spin1h, spin1e, spin1q = fp[11], fp[15], fp[16]\n",
    "            spin2h, spin2e, spin2q = fp[19], fp[17], fp[18]\n",
    "            spin1P_radyr = np.sqrt(spin1h**2.+spin1e**2.+spin1q**2.)\n",
    "            spin2P_radyr = np.sqrt(spin2h**2.+spin2e**2.+spin2q**2.)\n",
    "            spin1P = 2.*pi*365.25/spin1P_radyr\n",
    "            spin2P = 2.*pi*365.25/spin2P_radyr\n",
    "\n",
    "            final_conditions = np.array([m1,m2,m3,R1,R2,spin1P,spin2P,beta,beta2,gamma,gamma2,a1,a2,e1,e2,g1,g2,i,end_time,age])\n",
    "            create_file(final_conditions, restart_inicon_dir, str(n), restart=True) #create the restart triple.in file\n",
    "\n",
    "        # else: \n",
    "        #     if int(last_line[0]) == 7: cass_n.append(int(n))\n",
    "    "
   ]
  },
  {
   "cell_type": "code",
   "execution_count": 24,
   "id": "dc0b9e3d",
   "metadata": {},
   "outputs": [
    {
     "data": {
      "text/plain": [
       "293"
      ]
     },
     "execution_count": 24,
     "metadata": {},
     "output_type": "execute_result"
    }
   ],
   "source": [
    "len(sorted(restart_numbers))"
   ]
  },
  {
   "cell_type": "code",
   "execution_count": null,
   "id": "51d3fa51",
   "metadata": {},
   "outputs": [],
   "source": []
  },
  {
   "cell_type": "code",
   "execution_count": null,
   "id": "6c69e26b",
   "metadata": {},
   "outputs": [],
   "source": []
  },
  {
   "cell_type": "code",
   "execution_count": null,
   "id": "8f7c0637",
   "metadata": {},
   "outputs": [],
   "source": []
  },
  {
   "cell_type": "code",
   "execution_count": null,
   "id": "d860e272",
   "metadata": {},
   "outputs": [],
   "source": []
  },
  {
   "cell_type": "code",
   "execution_count": 6,
   "id": "1fe6961a",
   "metadata": {},
   "outputs": [
    {
     "ename": "NameError",
     "evalue": "name 'still_going_n' is not defined",
     "output_type": "error",
     "traceback": [
      "\u001b[0;31m---------------------------------------------------------------------------\u001b[0m",
      "\u001b[0;31mNameError\u001b[0m                                 Traceback (most recent call last)",
      "Cell \u001b[0;32mIn[6], line 25\u001b[0m\n\u001b[1;32m     22\u001b[0m first_line, last_line \u001b[39m=\u001b[39m get_first_line(this_file)\u001b[39m.\u001b[39msplit(\u001b[39m'\u001b[39m\u001b[39m\\t\u001b[39;00m\u001b[39m'\u001b[39m), get_last_line(this_file)\u001b[39m.\u001b[39msplit(\u001b[39m'\u001b[39m\u001b[39m\\t\u001b[39;00m\u001b[39m'\u001b[39m) \u001b[39m#last line\u001b[39;00m\n\u001b[1;32m     23\u001b[0m first_line, last_line \u001b[39m=\u001b[39m [x\u001b[39m.\u001b[39mstrip() \u001b[39mfor\u001b[39;00m x \u001b[39min\u001b[39;00m first_line], [x\u001b[39m.\u001b[39mstrip() \u001b[39mfor\u001b[39;00m x \u001b[39min\u001b[39;00m last_line]\n\u001b[1;32m     24\u001b[0m \u001b[39mif\u001b[39;00m (\n\u001b[0;32m---> 25\u001b[0m     last_line[\u001b[39m-\u001b[39m\u001b[39m1\u001b[39m] \u001b[39m!=\u001b[39m \u001b[39m'\u001b[39m\u001b[39mEND\u001b[39m\u001b[39m'\u001b[39m \u001b[39mand\u001b[39;00m n \u001b[39mnot\u001b[39;00m \u001b[39min\u001b[39;00m still_going_n \u001b[39mand\u001b[39;00m \n\u001b[1;32m     26\u001b[0m     ( (\u001b[39mfloat\u001b[39m(last_line[\u001b[39m0\u001b[39m]) \u001b[39m!=\u001b[39m \u001b[39m0.\u001b[39m) \u001b[39mor\u001b[39;00m (\u001b[39mfloat\u001b[39m(last_line[\u001b[39m0\u001b[39m]) \u001b[39m!=\u001b[39m \u001b[39m4.\u001b[39m) ) \u001b[39mand\u001b[39;00m \n\u001b[1;32m     27\u001b[0m     \u001b[39mfloat\u001b[39m(last_line[\u001b[39m2\u001b[39m]) \u001b[39m<\u001b[39m\u001b[39m=\u001b[39m\u001b[39m1e10\u001b[39m\n\u001b[1;32m     28\u001b[0m    ):\n\u001b[1;32m     29\u001b[0m     restart_numbers\u001b[39m.\u001b[39mappend(n)\n\u001b[1;32m     30\u001b[0m     create_file(final_conditions, restart_inicon_dir, \u001b[39mstr\u001b[39m(n), restart\u001b[39m=\u001b[39m\u001b[39mTrue\u001b[39;00m)\n",
      "\u001b[0;31mNameError\u001b[0m: name 'still_going_n' is not defined"
     ]
    }
   ],
   "source": [
    "restart_numbers=[]\n",
    "memory_errors=[]\n",
    "never_started=[]\n",
    "other_n=[]\n",
    "x=0\n",
    "outputs_directory = '/Users/bijan1339/Desktop/Research/Final_Output/'\n",
    "for filename in os.listdir(outputs_directory):\n",
    "    x+=1\n",
    "    n = filename.split('_')[-1].split('.')[0]\n",
    "    this_file = os.path.join(outputs_directory, filename)\n",
    "    if type(maybe_float(n)) is not float:\n",
    "        pass\n",
    "    if os.stat(this_file).st_size == 0.:\n",
    "            memory_errors.append(n)\n",
    "    elif (\n",
    "        (filename.endswith('.txt') and filename.startswith('output_') ) and \n",
    "        (7000 <= int(n) <=8000)\n",
    "        ):\n",
    "    \n",
    "        n = int(n) \n",
    "\n",
    "        first_line, last_line = get_first_line(this_file).split('\\t'), get_last_line(this_file).split('\\t') #last line\n",
    "        first_line, last_line = [x.strip() for x in first_line], [x.strip() for x in last_line]\n",
    "        if (\n",
    "            last_line[-1] != 'END' and n not in still_going_n and \n",
    "            ( (float(last_line[0]) != 0.) or (float(last_line[0]) != 4.) ) and \n",
    "            float(last_line[2]) <=1e10\n",
    "           ):\n",
    "            restart_numbers.append(n)\n",
    "            create_file(final_conditions, restart_inicon_dir, str(n), restart=True)\n",
    "            if (\n",
    "            float(last_line[2]) == 0. and (float(last_line[0]) != 0. and float(last_line[0]) != 4.)\n",
    "              ) : \n",
    "                never_started.append(n)\n",
    "        \n",
    "        else: other_n.append(n)\n"
   ]
  },
  {
   "cell_type": "code",
   "execution_count": 267,
   "id": "fcb9a193",
   "metadata": {},
   "outputs": [
    {
     "data": {
      "application/javascript": "\n            setTimeout(function() {\n                var nbb_cell_id = 267;\n                var nbb_unformatted_code = \"# Go through Final_Ouput2 folder, find file with same name in Final_Ouput folder,\\n# If the size of the 2 file is bigger, then move it to Final_Ouput folder.\\n# Else, dont\\n\\noutputs1_directory = '/Users/bijan1339/Desktop/Research/Final_Output/'\\noutputs2_directory = '/Users/bijan1339/Desktop/Research/Final_Output2/'\\n\\ncassini_n = (7001, 7002, 7003, 7004, 7011, 7013, 7015, 7019, 7021, 7023, 7024, 7025, 7036, 7039, 7058, 7059, 7061, 7063, 7064, 7066, 7067, 7068, 7070, 7072, 7075, 7077, 7078, 7084, 7090, 7092, 7093, 7100, 7102, 7103, 7113, 7116, 7117, 7119, 7120, 7122, 7124, 7126, 7129, 7130, 7138, 7143, 7147, 7151, 7156, 7160, 7161, 7162, 7168, 7172, 7177, 7179, 7180, 7186, 7193, 7196, 7200, 7205, 7206, 7207, 7208, 7209, 7210, 7212, 7215, 7219, 7221, 7222, 7231, 7233, 7234, 7236, 7242, 7243, 7256, 7259, 7263, 7266, 7268, 7274, 7276, 7279, 7282, 7284, 7290, 7292, 7293, 7294, 7296, 7300, 7301, 7302, 7304, 7305, 7307, 7308, 7309, 7310, 7311, 7313, 7315, 7316, 7318, 7322, 7325, 7328, 7331, 7336, 7338, 7342, 7344, 7345, 7347, 7352, 7353, 7359, 7365, 7367, 7368, 7370, 7372, 7374, 7376, 7383, 7385, 7387, 7390, 7394, 7397, 7398, 7401, 7406, 7408, 7413, 7413, 7415, 7419, 7422, 7423, 7425, 7427, 7432, 7433, 7437, 7438, 7444, 7445, 7447, 7450, 7454, 7461, 7465, 7466, 7470, 7476, 7477, 7479, 7482, 7486, 7489, 7491, 7493, 7497, 7505, 7508, 7509, 7513, 7514, 7515, 7517, 7519, 7524, 7525, 7527, 7530, 7533, 7535, 7540, 7546, 7548, 7552, 7557, 7560, 7561, 7563, 7564, 7567, 7568, 7569, 7570, 7571, 7575, 7577, 7579, 7580, 7581, 7582, 7588, 7599, 7601, 7607, 7612, 7620, 7625, 7630, 7631, 7632, 7637, 7642, 7643, 7648, 7651, 7653, 7655, 7657, 7658, 7661, 7662, 7667, 7669, 7670, 7672, 7673, 7683, 7684, 7689, 7690, 7695, 7698, 7702, 7703, 7704, 7710, 7714, 7716, 7718, 7723, 7724, 7729, 7730, 7732, 7736, 7737, 7740, 7743, 7746, 7750, 7751, 7756, 7758, 7759, 7763, 7765, 7767, 7772, 7774, 7780, 7788, 7789, 7790, 7791, 7791, 7794, 7794, 7796, 7801, 7805, 7807, 7808, 7810, 7812, 7813, 7815, 7818, 7822, 7823, 7827, 7834, 7843, 7848, 7849, 7851, 7852, 7853, 7856, 7859, 7862, 7868, 7870, 7874, 7875, 7878, 7881, 7883, 7885, 7886, 7889, 7894, 7898, 7901, 7903, 7904, 7905, 7907, 7909, 7912, 7914, 7916, 7918, 7923, 7926, 7927, 7929, 7933, 7945, 7949, 7955, 7956, 7957, 7958, 7960, 7961, 7964, 7966, 7967, 7977, 7978, 7979, 7981, 7982, 7988, 7995, 7998, 7999)\\n\\nfor filename in os.listdir(outputs2_directory):\\n    if filename.startswith('output_'):\\n        n = int(filename.split('_')[-1].split('.')[0])\\n        if n in cassini_n or list(range(7000,8000)):\\n            this_file = outputs2_directory + filename\\n            corresponding_file = outputs1_directory + filename\\n            if os.stat(corresponding_file).st_size < os.stat(this_file).st_size:\\n                try:\\n                    shutil.copy(this_file, outputs1_directory)\\n                except shutil.SameFileError:\\n                    pass\";\n                var nbb_formatted_code = \"# Go through Final_Ouput2 folder, find file with same name in Final_Ouput folder,\\n# If the size of the 2 file is bigger, then move it to Final_Ouput folder.\\n# Else, dont\\n\\noutputs1_directory = \\\"/Users/bijan1339/Desktop/Research/Final_Output/\\\"\\noutputs2_directory = \\\"/Users/bijan1339/Desktop/Research/Final_Output2/\\\"\\n\\ncassini_n = (\\n    7001,\\n    7002,\\n    7003,\\n    7004,\\n    7011,\\n    7013,\\n    7015,\\n    7019,\\n    7021,\\n    7023,\\n    7024,\\n    7025,\\n    7036,\\n    7039,\\n    7058,\\n    7059,\\n    7061,\\n    7063,\\n    7064,\\n    7066,\\n    7067,\\n    7068,\\n    7070,\\n    7072,\\n    7075,\\n    7077,\\n    7078,\\n    7084,\\n    7090,\\n    7092,\\n    7093,\\n    7100,\\n    7102,\\n    7103,\\n    7113,\\n    7116,\\n    7117,\\n    7119,\\n    7120,\\n    7122,\\n    7124,\\n    7126,\\n    7129,\\n    7130,\\n    7138,\\n    7143,\\n    7147,\\n    7151,\\n    7156,\\n    7160,\\n    7161,\\n    7162,\\n    7168,\\n    7172,\\n    7177,\\n    7179,\\n    7180,\\n    7186,\\n    7193,\\n    7196,\\n    7200,\\n    7205,\\n    7206,\\n    7207,\\n    7208,\\n    7209,\\n    7210,\\n    7212,\\n    7215,\\n    7219,\\n    7221,\\n    7222,\\n    7231,\\n    7233,\\n    7234,\\n    7236,\\n    7242,\\n    7243,\\n    7256,\\n    7259,\\n    7263,\\n    7266,\\n    7268,\\n    7274,\\n    7276,\\n    7279,\\n    7282,\\n    7284,\\n    7290,\\n    7292,\\n    7293,\\n    7294,\\n    7296,\\n    7300,\\n    7301,\\n    7302,\\n    7304,\\n    7305,\\n    7307,\\n    7308,\\n    7309,\\n    7310,\\n    7311,\\n    7313,\\n    7315,\\n    7316,\\n    7318,\\n    7322,\\n    7325,\\n    7328,\\n    7331,\\n    7336,\\n    7338,\\n    7342,\\n    7344,\\n    7345,\\n    7347,\\n    7352,\\n    7353,\\n    7359,\\n    7365,\\n    7367,\\n    7368,\\n    7370,\\n    7372,\\n    7374,\\n    7376,\\n    7383,\\n    7385,\\n    7387,\\n    7390,\\n    7394,\\n    7397,\\n    7398,\\n    7401,\\n    7406,\\n    7408,\\n    7413,\\n    7413,\\n    7415,\\n    7419,\\n    7422,\\n    7423,\\n    7425,\\n    7427,\\n    7432,\\n    7433,\\n    7437,\\n    7438,\\n    7444,\\n    7445,\\n    7447,\\n    7450,\\n    7454,\\n    7461,\\n    7465,\\n    7466,\\n    7470,\\n    7476,\\n    7477,\\n    7479,\\n    7482,\\n    7486,\\n    7489,\\n    7491,\\n    7493,\\n    7497,\\n    7505,\\n    7508,\\n    7509,\\n    7513,\\n    7514,\\n    7515,\\n    7517,\\n    7519,\\n    7524,\\n    7525,\\n    7527,\\n    7530,\\n    7533,\\n    7535,\\n    7540,\\n    7546,\\n    7548,\\n    7552,\\n    7557,\\n    7560,\\n    7561,\\n    7563,\\n    7564,\\n    7567,\\n    7568,\\n    7569,\\n    7570,\\n    7571,\\n    7575,\\n    7577,\\n    7579,\\n    7580,\\n    7581,\\n    7582,\\n    7588,\\n    7599,\\n    7601,\\n    7607,\\n    7612,\\n    7620,\\n    7625,\\n    7630,\\n    7631,\\n    7632,\\n    7637,\\n    7642,\\n    7643,\\n    7648,\\n    7651,\\n    7653,\\n    7655,\\n    7657,\\n    7658,\\n    7661,\\n    7662,\\n    7667,\\n    7669,\\n    7670,\\n    7672,\\n    7673,\\n    7683,\\n    7684,\\n    7689,\\n    7690,\\n    7695,\\n    7698,\\n    7702,\\n    7703,\\n    7704,\\n    7710,\\n    7714,\\n    7716,\\n    7718,\\n    7723,\\n    7724,\\n    7729,\\n    7730,\\n    7732,\\n    7736,\\n    7737,\\n    7740,\\n    7743,\\n    7746,\\n    7750,\\n    7751,\\n    7756,\\n    7758,\\n    7759,\\n    7763,\\n    7765,\\n    7767,\\n    7772,\\n    7774,\\n    7780,\\n    7788,\\n    7789,\\n    7790,\\n    7791,\\n    7791,\\n    7794,\\n    7794,\\n    7796,\\n    7801,\\n    7805,\\n    7807,\\n    7808,\\n    7810,\\n    7812,\\n    7813,\\n    7815,\\n    7818,\\n    7822,\\n    7823,\\n    7827,\\n    7834,\\n    7843,\\n    7848,\\n    7849,\\n    7851,\\n    7852,\\n    7853,\\n    7856,\\n    7859,\\n    7862,\\n    7868,\\n    7870,\\n    7874,\\n    7875,\\n    7878,\\n    7881,\\n    7883,\\n    7885,\\n    7886,\\n    7889,\\n    7894,\\n    7898,\\n    7901,\\n    7903,\\n    7904,\\n    7905,\\n    7907,\\n    7909,\\n    7912,\\n    7914,\\n    7916,\\n    7918,\\n    7923,\\n    7926,\\n    7927,\\n    7929,\\n    7933,\\n    7945,\\n    7949,\\n    7955,\\n    7956,\\n    7957,\\n    7958,\\n    7960,\\n    7961,\\n    7964,\\n    7966,\\n    7967,\\n    7977,\\n    7978,\\n    7979,\\n    7981,\\n    7982,\\n    7988,\\n    7995,\\n    7998,\\n    7999,\\n)\\n\\nfor filename in os.listdir(outputs2_directory):\\n    if filename.startswith(\\\"output_\\\"):\\n        n = int(filename.split(\\\"_\\\")[-1].split(\\\".\\\")[0])\\n        if n in cassini_n or list(range(7000, 8000)):\\n            this_file = outputs2_directory + filename\\n            corresponding_file = outputs1_directory + filename\\n            if os.stat(corresponding_file).st_size < os.stat(this_file).st_size:\\n                try:\\n                    shutil.copy(this_file, outputs1_directory)\\n                except shutil.SameFileError:\\n                    pass\";\n                var nbb_cells = Jupyter.notebook.get_cells();\n                for (var i = 0; i < nbb_cells.length; ++i) {\n                    if (nbb_cells[i].input_prompt_number == nbb_cell_id) {\n                        if (nbb_cells[i].get_text() == nbb_unformatted_code) {\n                             nbb_cells[i].set_text(nbb_formatted_code);\n                        }\n                        break;\n                    }\n                }\n            }, 500);\n            ",
      "text/plain": [
       "<IPython.core.display.Javascript object>"
      ]
     },
     "metadata": {},
     "output_type": "display_data"
    }
   ],
   "source": [
    "# Go through Final_Ouput2 folder, find file with same name in Final_Ouput folder,\n",
    "# If the size of the 2 file is bigger, then move it to Final_Ouput folder.\n",
    "# Else, dont\n",
    "\n",
    "outputs1_directory = '/Users/bijan1339/Desktop/Research/Final_Output/'\n",
    "outputs2_directory = '/Users/bijan1339/Desktop/Research/Final_Output2/'\n",
    "\n",
    "cassini_n = (7001, 7002, 7003, 7004, 7011, 7013, 7015, 7019, 7021, 7023, 7024, 7025, 7036, 7039, 7058, 7059, 7061, 7063, 7064, 7066, 7067, 7068, 7070, 7072, 7075, 7077, 7078, 7084, 7090, 7092, 7093, 7100, 7102, 7103, 7113, 7116, 7117, 7119, 7120, 7122, 7124, 7126, 7129, 7130, 7138, 7143, 7147, 7151, 7156, 7160, 7161, 7162, 7168, 7172, 7177, 7179, 7180, 7186, 7193, 7196, 7200, 7205, 7206, 7207, 7208, 7209, 7210, 7212, 7215, 7219, 7221, 7222, 7231, 7233, 7234, 7236, 7242, 7243, 7256, 7259, 7263, 7266, 7268, 7274, 7276, 7279, 7282, 7284, 7290, 7292, 7293, 7294, 7296, 7300, 7301, 7302, 7304, 7305, 7307, 7308, 7309, 7310, 7311, 7313, 7315, 7316, 7318, 7322, 7325, 7328, 7331, 7336, 7338, 7342, 7344, 7345, 7347, 7352, 7353, 7359, 7365, 7367, 7368, 7370, 7372, 7374, 7376, 7383, 7385, 7387, 7390, 7394, 7397, 7398, 7401, 7406, 7408, 7413, 7413, 7415, 7419, 7422, 7423, 7425, 7427, 7432, 7433, 7437, 7438, 7444, 7445, 7447, 7450, 7454, 7461, 7465, 7466, 7470, 7476, 7477, 7479, 7482, 7486, 7489, 7491, 7493, 7497, 7505, 7508, 7509, 7513, 7514, 7515, 7517, 7519, 7524, 7525, 7527, 7530, 7533, 7535, 7540, 7546, 7548, 7552, 7557, 7560, 7561, 7563, 7564, 7567, 7568, 7569, 7570, 7571, 7575, 7577, 7579, 7580, 7581, 7582, 7588, 7599, 7601, 7607, 7612, 7620, 7625, 7630, 7631, 7632, 7637, 7642, 7643, 7648, 7651, 7653, 7655, 7657, 7658, 7661, 7662, 7667, 7669, 7670, 7672, 7673, 7683, 7684, 7689, 7690, 7695, 7698, 7702, 7703, 7704, 7710, 7714, 7716, 7718, 7723, 7724, 7729, 7730, 7732, 7736, 7737, 7740, 7743, 7746, 7750, 7751, 7756, 7758, 7759, 7763, 7765, 7767, 7772, 7774, 7780, 7788, 7789, 7790, 7791, 7791, 7794, 7794, 7796, 7801, 7805, 7807, 7808, 7810, 7812, 7813, 7815, 7818, 7822, 7823, 7827, 7834, 7843, 7848, 7849, 7851, 7852, 7853, 7856, 7859, 7862, 7868, 7870, 7874, 7875, 7878, 7881, 7883, 7885, 7886, 7889, 7894, 7898, 7901, 7903, 7904, 7905, 7907, 7909, 7912, 7914, 7916, 7918, 7923, 7926, 7927, 7929, 7933, 7945, 7949, 7955, 7956, 7957, 7958, 7960, 7961, 7964, 7966, 7967, 7977, 7978, 7979, 7981, 7982, 7988, 7995, 7998, 7999)\n",
    "\n",
    "for filename in os.listdir(outputs2_directory):\n",
    "    if filename.startswith('output_'):\n",
    "        n = int(filename.split('_')[-1].split('.')[0])\n",
    "        if n in cassini_n or list(range(7000,8000)):\n",
    "            this_file = outputs2_directory + filename\n",
    "            corresponding_file = outputs1_directory + filename\n",
    "            if os.stat(corresponding_file).st_size < os.stat(this_file).st_size:\n",
    "                try:\n",
    "                    shutil.copy(this_file, outputs1_directory)\n",
    "                except shutil.SameFileError:\n",
    "                    pass\n"
   ]
  },
  {
   "cell_type": "code",
   "execution_count": 234,
   "id": "431dded0",
   "metadata": {},
   "outputs": [
    {
     "name": "stdout",
     "output_type": "stream",
     "text": [
      "(7031, 7033, 7035, 7042, 7043, 7044, 7048, 7051, 7053, 7056, 7069, 7082, 7085, 7089, 7097, 7125, 7131, 7140, 7150, 7169, 7173, 7174, 7175, 7178, 7182, 7192, 7204, 7211, 7214, 7225, 7229, 7232, 7247, 7272, 7273, 7283, 7286, 7288, 7306, 7320, 7332, 7337, 7348, 7350, 7360, 7361, 7366, 7369, 7377, 7379, 7391, 7393, 7395, 7409, 7412, 7417, 7443, 7451, 7471, 7478, 7480, 7488, 7490, 7494, 7500, 7504, 7521, 7523, 7529, 7549, 7554, 7589, 7590, 7610, 7618, 7626, 7627, 7628, 7645, 7659, 7679, 7691, 7692, 7697, 7719, 7744, 7754, 7761, 7762, 7775, 7779, 7800, 7816, 7824, 7825, 7829, 7837, 7844, 7855, 7869, 7917, 7924, 7936, 7947, 7953, 7959, 7971, 7986, 7996)\n",
      "707 143 109\n",
      "sum: 959\n"
     ]
    },
    {
     "data": {
      "application/javascript": "\n            setTimeout(function() {\n                var nbb_cell_id = 234;\n                var nbb_unformatted_code = \"#print(tuple(sorted(restart_numbers)))\\nprint(tuple(sorted(never_started)))\\nints = list(range(7000,8000))\\nprint(len(all_n),len(restart_numbers),len(never_started))\\nprint(f'sum: {len(all_n)+len(restart_numbers)+len(never_started)}')\";\n                var nbb_formatted_code = \"# print(tuple(sorted(restart_numbers)))\\nprint(tuple(sorted(never_started)))\\nints = list(range(7000, 8000))\\nprint(len(all_n), len(restart_numbers), len(never_started))\\nprint(f\\\"sum: {len(all_n)+len(restart_numbers)+len(never_started)}\\\")\";\n                var nbb_cells = Jupyter.notebook.get_cells();\n                for (var i = 0; i < nbb_cells.length; ++i) {\n                    if (nbb_cells[i].input_prompt_number == nbb_cell_id) {\n                        if (nbb_cells[i].get_text() == nbb_unformatted_code) {\n                             nbb_cells[i].set_text(nbb_formatted_code);\n                        }\n                        break;\n                    }\n                }\n            }, 500);\n            ",
      "text/plain": [
       "<IPython.core.display.Javascript object>"
      ]
     },
     "metadata": {},
     "output_type": "display_data"
    }
   ],
   "source": [
    "#print(tuple(sorted(restart_numbers)))\n",
    "print(tuple(sorted(never_started)))\n",
    "ints = list(range(7000,8000))\n",
    "print(len(all_n),len(restart_numbers),len(never_started))\n",
    "print(f'sum: {len(all_n)+len(restart_numbers)+len(never_started)}')"
   ]
  },
  {
   "attachments": {},
   "cell_type": "markdown",
   "id": "418b1bf1",
   "metadata": {},
   "source": [
    "## Finding Cassini Files (don't need restart)"
   ]
  },
  {
   "cell_type": "code",
   "execution_count": 278,
   "id": "a9390009",
   "metadata": {},
   "outputs": [
    {
     "data": {
      "text/plain": [
       "\"\\n    if (\\n        (os.stat(this_file).st_size != 0.) and (filename.endswith('.txt') and \\n        filename.startswith('output') ) and (1000 <= int(n) <=1400 or 1500 <= int(n) <2000) \\n        ):\\n        \\n        n = int(filename.split('_')[-1].split('.')[0]) #output_n.txt\\n\\n        first_line, last_line = get_first_line(this_file).split('\\t'), get_last_line(this_file).split('\\t') #last line\\n        first_line, last_line = [x.strip() for x in first_line], [x.strip() for x in last_line]\\n        \\n        ip, fp = [maybe_float(y) for y in first_line], [maybe_float(y) for y in last_line]    \\n        \\n        total_age = 12.5e9\\n        age = total_age/1e6 #(total_age-end_time)/1e6 # rest of time simulation needs to run to\\n        e1,e2,a1,i,beta = fp[3], fp[4], fp[7], fp[10],fp[13]\\n        g1, g2 = np.rad2deg(fp[5]), np.rad2deg(fp[6])\\n        m1,m2,a2,m3 = ip[21],ip[23],fp[25],ip[26] #taking the INITIAL, initial masses\\n        R1, R2 = fp[22]*AU/Rsun, fp[24]*AU/Rsun # convert from AU to Rsun\\n        beta2,gamma,gamma2 = fp[32], fp[33],fp[34]\\n        \\n        spin1h, spin1e, spin1q = fp[11], fp[15], fp[16]\\n        spin2h, spin2e, spin2q = fp[19], fp[17], fp[18]\\n        spin1P_radyr = np.sqrt(spin1h**2.+spin1e**2.+spin1q**2.)\\n        spin2P_radyr = np.sqrt(spin2h**2.+spin2e**2.+spin2q**2.)\\n        spin1P = 2.*pi*365.25/spin1P_radyr\\n        spin2P = 2.*pi*365.25/spin2P_radyr\\n        \\n        beta = beta*np.pi/180.\\n        beta2 = beta2*np.pi/180.\\n        P_in = np.sqrt(a1**3 / ( (m1+m2) )  )*365.25\\n        omega_1p = (4*np.pi/P_in ) / (np.cos(beta) + (1/np.cos(beta)) )   \\n        omega_2p = (4*np.pi/P_in ) / (np.cos(beta2) + (1/np.cos(beta2)) ) \\n        omega_1p,omega_2p = 2*np.pi/omega_1p,2*np.pi/omega_2p\\n        if  (0.95*omega_1p < spin1P < 1.05*omega_1p) or (0.95*omega_2p < spin2P < 1.05*omega_2p):\\n            cassini_states.append(n)\\n            cassini_lines.append(fp)\\n\""
      ]
     },
     "execution_count": 278,
     "metadata": {},
     "output_type": "execute_result"
    },
    {
     "data": {
      "application/javascript": "\n            setTimeout(function() {\n                var nbb_cell_id = 278;\n                var nbb_unformatted_code = \"#FIND THOSE THAT REACHED CASSINI STATE TO REMOVE FROM RESTART NUMBERS\\ncassini_states,cassini_lines=[],[]\\noutputs_directory = '/Users/bijan1339/Desktop/Research/Final_Output/'\\nfor filename in os.listdir(outputs_directory):\\n    \\n    this_file = os.path.join(outputs_directory, filename)\\n    n = filename.split('_')[-1].split('.')[0]\\n    if type(maybe_float(n)) == float and int(n) in cass_n:\\n       os.remove(this_file)\\n        \\n\\\"\\\"\\\"\\n    if (\\n        (os.stat(this_file).st_size != 0.) and (filename.endswith('.txt') and \\n        filename.startswith('output') ) and (1000 <= int(n) <=1400 or 1500 <= int(n) <2000) \\n        ):\\n        \\n        n = int(filename.split('_')[-1].split('.')[0]) #output_n.txt\\n\\n        first_line, last_line = get_first_line(this_file).split('\\\\t'), get_last_line(this_file).split('\\\\t') #last line\\n        first_line, last_line = [x.strip() for x in first_line], [x.strip() for x in last_line]\\n        \\n        ip, fp = [maybe_float(y) for y in first_line], [maybe_float(y) for y in last_line]    \\n        \\n        total_age = 12.5e9\\n        age = total_age/1e6 #(total_age-end_time)/1e6 # rest of time simulation needs to run to\\n        e1,e2,a1,i,beta = fp[3], fp[4], fp[7], fp[10],fp[13]\\n        g1, g2 = np.rad2deg(fp[5]), np.rad2deg(fp[6])\\n        m1,m2,a2,m3 = ip[21],ip[23],fp[25],ip[26] #taking the INITIAL, initial masses\\n        R1, R2 = fp[22]*AU/Rsun, fp[24]*AU/Rsun # convert from AU to Rsun\\n        beta2,gamma,gamma2 = fp[32], fp[33],fp[34]\\n        \\n        spin1h, spin1e, spin1q = fp[11], fp[15], fp[16]\\n        spin2h, spin2e, spin2q = fp[19], fp[17], fp[18]\\n        spin1P_radyr = np.sqrt(spin1h**2.+spin1e**2.+spin1q**2.)\\n        spin2P_radyr = np.sqrt(spin2h**2.+spin2e**2.+spin2q**2.)\\n        spin1P = 2.*pi*365.25/spin1P_radyr\\n        spin2P = 2.*pi*365.25/spin2P_radyr\\n        \\n        beta = beta*np.pi/180.\\n        beta2 = beta2*np.pi/180.\\n        P_in = np.sqrt(a1**3 / ( (m1+m2) )  )*365.25\\n        omega_1p = (4*np.pi/P_in ) / (np.cos(beta) + (1/np.cos(beta)) )   \\n        omega_2p = (4*np.pi/P_in ) / (np.cos(beta2) + (1/np.cos(beta2)) ) \\n        omega_1p,omega_2p = 2*np.pi/omega_1p,2*np.pi/omega_2p\\n        if  (0.95*omega_1p < spin1P < 1.05*omega_1p) or (0.95*omega_2p < spin2P < 1.05*omega_2p):\\n            cassini_states.append(n)\\n            cassini_lines.append(fp)\\n\\\"\\\"\\\"\";\n                var nbb_formatted_code = \"# FIND THOSE THAT REACHED CASSINI STATE TO REMOVE FROM RESTART NUMBERS\\ncassini_states, cassini_lines = [], []\\noutputs_directory = \\\"/Users/bijan1339/Desktop/Research/Final_Output/\\\"\\nfor filename in os.listdir(outputs_directory):\\n    this_file = os.path.join(outputs_directory, filename)\\n    n = filename.split(\\\"_\\\")[-1].split(\\\".\\\")[0]\\n    if type(maybe_float(n)) == float and int(n) in cass_n:\\n        os.remove(this_file)\\n\\n\\\"\\\"\\\"\\n    if (\\n        (os.stat(this_file).st_size != 0.) and (filename.endswith('.txt') and \\n        filename.startswith('output') ) and (1000 <= int(n) <=1400 or 1500 <= int(n) <2000) \\n        ):\\n        \\n        n = int(filename.split('_')[-1].split('.')[0]) #output_n.txt\\n\\n        first_line, last_line = get_first_line(this_file).split('\\\\t'), get_last_line(this_file).split('\\\\t') #last line\\n        first_line, last_line = [x.strip() for x in first_line], [x.strip() for x in last_line]\\n        \\n        ip, fp = [maybe_float(y) for y in first_line], [maybe_float(y) for y in last_line]    \\n        \\n        total_age = 12.5e9\\n        age = total_age/1e6 #(total_age-end_time)/1e6 # rest of time simulation needs to run to\\n        e1,e2,a1,i,beta = fp[3], fp[4], fp[7], fp[10],fp[13]\\n        g1, g2 = np.rad2deg(fp[5]), np.rad2deg(fp[6])\\n        m1,m2,a2,m3 = ip[21],ip[23],fp[25],ip[26] #taking the INITIAL, initial masses\\n        R1, R2 = fp[22]*AU/Rsun, fp[24]*AU/Rsun # convert from AU to Rsun\\n        beta2,gamma,gamma2 = fp[32], fp[33],fp[34]\\n        \\n        spin1h, spin1e, spin1q = fp[11], fp[15], fp[16]\\n        spin2h, spin2e, spin2q = fp[19], fp[17], fp[18]\\n        spin1P_radyr = np.sqrt(spin1h**2.+spin1e**2.+spin1q**2.)\\n        spin2P_radyr = np.sqrt(spin2h**2.+spin2e**2.+spin2q**2.)\\n        spin1P = 2.*pi*365.25/spin1P_radyr\\n        spin2P = 2.*pi*365.25/spin2P_radyr\\n        \\n        beta = beta*np.pi/180.\\n        beta2 = beta2*np.pi/180.\\n        P_in = np.sqrt(a1**3 / ( (m1+m2) )  )*365.25\\n        omega_1p = (4*np.pi/P_in ) / (np.cos(beta) + (1/np.cos(beta)) )   \\n        omega_2p = (4*np.pi/P_in ) / (np.cos(beta2) + (1/np.cos(beta2)) ) \\n        omega_1p,omega_2p = 2*np.pi/omega_1p,2*np.pi/omega_2p\\n        if  (0.95*omega_1p < spin1P < 1.05*omega_1p) or (0.95*omega_2p < spin2P < 1.05*omega_2p):\\n            cassini_states.append(n)\\n            cassini_lines.append(fp)\\n\\\"\\\"\\\"\";\n                var nbb_cells = Jupyter.notebook.get_cells();\n                for (var i = 0; i < nbb_cells.length; ++i) {\n                    if (nbb_cells[i].input_prompt_number == nbb_cell_id) {\n                        if (nbb_cells[i].get_text() == nbb_unformatted_code) {\n                             nbb_cells[i].set_text(nbb_formatted_code);\n                        }\n                        break;\n                    }\n                }\n            }, 500);\n            ",
      "text/plain": [
       "<IPython.core.display.Javascript object>"
      ]
     },
     "metadata": {},
     "output_type": "display_data"
    }
   ],
   "source": [
    "#FIND THOSE THAT REACHED CASSINI STATE TO REMOVE FROM RESTART NUMBERS\n",
    "cassini_states,cassini_lines=[],[]\n",
    "outputs_directory = '/Users/bijan1339/Desktop/Research/Final_Output/'\n",
    "for filename in os.listdir(outputs_directory):\n",
    "    \n",
    "    this_file = os.path.join(outputs_directory, filename)\n",
    "    n = filename.split('_')[-1].split('.')[0]\n",
    "    # if type(maybe_float(n)) == float and int(n) in cass_n:\n",
    "    #    os.remove(this_file)\n",
    "        \n",
    "    if (\n",
    "        (os.stat(this_file).st_size != 0.) and (filename.endswith('.txt') and \n",
    "        filename.startswith('output_') ) and (1000 <= int(n) <=1400 or 1500 <= int(n) <2000) \n",
    "        ):\n",
    "        \n",
    "        n = int(filename.split('_')[-1].split('.')[0]) #output_n.txt\n",
    "\n",
    "        first_line, last_line = get_first_line(this_file).split('\\t'), get_last_line(this_file).split('\\t') #last line\n",
    "        first_line, last_line = [x.strip() for x in first_line], [x.strip() for x in last_line]\n",
    "        \n",
    "        ip, fp = [maybe_float(y) for y in first_line], [maybe_float(y) for y in last_line]    \n",
    "        \n",
    "        total_age = 12.5e9\n",
    "        age = total_age/1e6 #(total_age-end_time)/1e6 # rest of time simulation needs to run to\n",
    "        e1,e2,a1,i,beta = fp[3], fp[4], fp[7], fp[10],fp[13]\n",
    "        g1, g2 = np.rad2deg(fp[5]), np.rad2deg(fp[6])\n",
    "        m1,m2,a2,m3 = ip[21],ip[23],fp[25],ip[26] #taking the INITIAL, initial masses\n",
    "        R1, R2 = fp[22]*AU/Rsun, fp[24]*AU/Rsun # convert from AU to Rsun\n",
    "        beta2,gamma,gamma2 = fp[32], fp[33],fp[34]\n",
    "        \n",
    "        spin1h, spin1e, spin1q = fp[11], fp[15], fp[16]\n",
    "        spin2h, spin2e, spin2q = fp[19], fp[17], fp[18]\n",
    "        spin1P_radyr = np.sqrt(spin1h**2.+spin1e**2.+spin1q**2.)\n",
    "        spin2P_radyr = np.sqrt(spin2h**2.+spin2e**2.+spin2q**2.)\n",
    "        spin1P = 2.*pi*365.25/spin1P_radyr\n",
    "        spin2P = 2.*pi*365.25/spin2P_radyr\n",
    "        \n",
    "        beta = beta*np.pi/180.\n",
    "        beta2 = beta2*np.pi/180.\n",
    "        P_in = np.sqrt(a1**3 / ( (m1+m2) )  )*365.25\n",
    "        omega_1p = (4*np.pi/P_in ) / (np.cos(beta) + (1/np.cos(beta)) )   \n",
    "        omega_2p = (4*np.pi/P_in ) / (np.cos(beta2) + (1/np.cos(beta2)) ) \n",
    "        omega_1p,omega_2p = 2*np.pi/omega_1p,2*np.pi/omega_2p\n",
    "        if  (0.95*omega_1p < spin1P < 1.05*omega_1p) or (0.95*omega_2p < spin2P < 1.05*omega_2p):\n",
    "            cassini_states.append(n)\n",
    "            cassini_lines.append(fp)\n"
   ]
  },
  {
   "cell_type": "code",
   "execution_count": 270,
   "id": "8502a28c",
   "metadata": {},
   "outputs": [
    {
     "name": "stdout",
     "output_type": "stream",
     "text": [
      "(7001, 7002, 7003, 7004, 7011, 7013, 7015, 7019, 7021, 7023, 7024, 7025, 7036, 7039, 7058, 7059, 7061, 7063, 7064, 7066, 7067, 7068, 7070, 7072, 7075, 7077, 7078, 7084, 7090, 7092, 7093, 7100, 7102, 7103, 7113, 7116, 7117, 7119, 7120, 7122, 7124, 7126, 7129, 7130, 7138, 7143, 7147, 7151, 7156, 7160, 7161, 7162, 7168, 7172, 7177, 7179, 7180, 7186, 7193, 7196, 7200, 7205, 7206, 7207, 7208, 7209, 7210, 7212, 7215, 7219, 7221, 7222, 7231, 7233, 7234, 7236, 7242, 7243, 7256, 7259, 7263, 7266, 7268, 7274, 7276, 7279, 7282, 7284, 7290, 7292, 7293, 7294, 7296, 7300, 7301, 7302, 7304, 7305, 7307, 7308, 7309, 7310, 7311, 7313, 7315, 7316, 7318, 7322, 7325, 7328, 7331, 7336, 7338, 7342, 7344, 7345, 7347, 7352, 7353, 7359, 7365, 7367, 7368, 7370, 7372, 7374, 7376, 7383, 7385, 7387, 7390, 7394, 7397, 7398, 7401, 7406, 7408, 7413, 7413, 7415, 7419, 7422, 7423, 7425, 7427, 7432, 7433, 7437, 7438, 7444, 7445, 7447, 7450, 7454, 7461, 7465, 7466, 7470, 7476, 7477, 7479, 7482, 7486, 7489, 7491, 7493, 7497, 7505, 7508, 7509, 7513, 7514, 7515, 7517, 7519, 7524, 7525, 7527, 7530, 7533, 7535, 7540, 7546, 7548, 7552, 7557, 7560, 7561, 7563, 7564, 7567, 7568, 7569, 7570, 7571, 7575, 7577, 7579, 7580, 7581, 7582, 7588, 7599, 7601, 7607, 7612, 7620, 7625, 7630, 7631, 7632, 7637, 7642, 7643, 7648, 7651, 7653, 7655, 7657, 7658, 7661, 7662, 7667, 7669, 7670, 7672, 7673, 7683, 7684, 7689, 7690, 7695, 7698, 7702, 7703, 7704, 7710, 7714, 7716, 7718, 7723, 7724, 7729, 7730, 7732, 7736, 7737, 7740, 7743, 7746, 7750, 7751, 7756, 7758, 7759, 7763, 7765, 7767, 7772, 7774, 7780, 7788, 7789, 7790, 7791, 7791, 7794, 7794, 7796, 7801, 7805, 7807, 7808, 7810, 7812, 7813, 7815, 7818, 7822, 7823, 7827, 7834, 7843, 7848, 7849, 7851, 7852, 7853, 7856, 7859, 7862, 7868, 7870, 7874, 7875, 7878, 7881, 7883, 7885, 7886, 7889, 7894, 7898, 7901, 7903, 7904, 7905, 7907, 7909, 7912, 7914, 7916, 7918, 7923, 7926, 7927, 7929, 7933, 7945, 7949, 7955, 7956, 7957, 7958, 7960, 7961, 7964, 7966, 7967, 7977, 7978, 7979, 7981, 7982, 7988, 7995, 7998, 7999)\n"
     ]
    },
    {
     "data": {
      "application/javascript": "\n            setTimeout(function() {\n                var nbb_cell_id = 270;\n                var nbb_unformatted_code = \"print(cassini_n)\";\n                var nbb_formatted_code = \"print(cassini_n)\";\n                var nbb_cells = Jupyter.notebook.get_cells();\n                for (var i = 0; i < nbb_cells.length; ++i) {\n                    if (nbb_cells[i].input_prompt_number == nbb_cell_id) {\n                        if (nbb_cells[i].get_text() == nbb_unformatted_code) {\n                             nbb_cells[i].set_text(nbb_formatted_code);\n                        }\n                        break;\n                    }\n                }\n            }, 500);\n            ",
      "text/plain": [
       "<IPython.core.display.Javascript object>"
      ]
     },
     "metadata": {},
     "output_type": "display_data"
    }
   ],
   "source": [
    "print(cassini_n)"
   ]
  },
  {
   "cell_type": "code",
   "execution_count": null,
   "id": "969b8f35",
   "metadata": {},
   "outputs": [],
   "source": []
  },
  {
   "cell_type": "code",
   "execution_count": null,
   "id": "c5fd176b",
   "metadata": {},
   "outputs": [],
   "source": []
  },
  {
   "cell_type": "code",
   "execution_count": null,
   "id": "93a94ab9",
   "metadata": {},
   "outputs": [],
   "source": []
  },
  {
   "cell_type": "code",
   "execution_count": null,
   "id": "f923dd41",
   "metadata": {},
   "outputs": [],
   "source": []
  },
  {
   "cell_type": "code",
   "execution_count": null,
   "id": "9714ad6e",
   "metadata": {},
   "outputs": [],
   "source": []
  }
 ],
 "metadata": {
  "kernelspec": {
   "display_name": "Python 3 (ipykernel)",
   "language": "python",
   "name": "python3"
  },
  "language_info": {
   "codemirror_mode": {
    "name": "ipython",
    "version": 3
   },
   "file_extension": ".py",
   "mimetype": "text/x-python",
   "name": "python",
   "nbconvert_exporter": "python",
   "pygments_lexer": "ipython3",
   "version": "3.10.0"
  },
  "vscode": {
   "interpreter": {
    "hash": "aee8b7b246df8f9039afb4144a1f6fd8d2ca17a180786b69acc140d282b71a49"
   }
  }
 },
 "nbformat": 4,
 "nbformat_minor": 5
}
